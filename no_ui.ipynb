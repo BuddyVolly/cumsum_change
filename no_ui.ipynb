{
 "cells": [
  {
   "cell_type": "code",
   "execution_count": 1,
   "metadata": {},
   "outputs": [],
   "source": [
    "# !!! testing purpose !!!\n",
    "# this cell is for testing the translation component\n",
    "# try uncomment the 2 following line to see the fr translation of the module\n",
    "# import os\n",
    "# os.environ[\"CUSTOM_LANGUAGE\"] = \"fr\""
   ]
  },
  {
   "cell_type": "code",
   "execution_count": 2,
   "metadata": {},
   "outputs": [],
   "source": [
    "# fore debuggin purposes you can run all the tiles of your app without being in voila\n",
    "# if you free the methods from their try catch statement, you'll be able to see all the error traceback\n",
    "# you can also display the evolution of your io in extra cells along the process execution\n",
    "\n",
    "# of course the notebook should be run with 'kernel'->'restart and run all'"
   ]
  },
  {
   "cell_type": "code",
   "execution_count": 1,
   "metadata": {},
   "outputs": [
    {
     "data": {
      "application/vnd.jupyter.widget-view+json": {
       "model_id": "2cd55ef9d5f4404aa5e1402063895dd0",
       "version_major": 2,
       "version_minor": 0
      },
      "text/plain": [
       "Styles()"
      ]
     },
     "metadata": {},
     "output_type": "display_data"
    },
    {
     "data": {
      "application/vnd.jupyter.widget-view+json": {
       "model_id": "57d0bb9ca4504620b58b9664c7feec0f",
       "version_major": 2,
       "version_minor": 0
      },
      "text/plain": [
       "ResizeTrigger()"
      ]
     },
     "metadata": {},
     "output_type": "display_data"
    }
   ],
   "source": [
    "# load the patial files\n",
    "%run 'cumsum_ui.ipynb'"
   ]
  },
  {
   "cell_type": "code",
   "execution_count": 4,
   "metadata": {},
   "outputs": [],
   "source": [
    "# display each tile individually"
   ]
  },
  {
   "cell_type": "code",
   "execution_count": 5,
   "metadata": {},
   "outputs": [
    {
     "data": {
      "application/vnd.jupyter.widget-view+json": {
       "model_id": "8a9a0ffaae164de7b78d3218b4460c70",
       "version_major": 2,
       "version_minor": 0
      },
      "text/plain": [
       "CumSumTile(align_center=True, children=[Card(children=[Html(children=['Select time series folder'], tag='h2'),…"
      ]
     },
     "metadata": {},
     "output_type": "display_data"
    }
   ],
   "source": [
    "cumsum_tile"
   ]
  },
  {
   "cell_type": "code",
   "execution_count": null,
   "metadata": {},
   "outputs": [],
   "source": []
  }
 ],
 "metadata": {
  "kernelspec": {
   "display_name": "Python 3",
   "language": "python",
   "name": "python3"
  },
  "language_info": {
   "codemirror_mode": {
    "name": "ipython",
    "version": 3
   },
   "file_extension": ".py",
   "mimetype": "text/x-python",
   "name": "python",
   "nbconvert_exporter": "python",
   "pygments_lexer": "ipython3",
   "version": "3.8.10"
  }
 },
 "nbformat": 4,
 "nbformat_minor": 4
}
