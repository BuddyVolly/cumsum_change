{
 "cells": [
  {
   "cell_type": "code",
   "execution_count": 1,
   "id": "61a3c817",
   "metadata": {},
   "outputs": [
    {
     "data": {
      "application/vnd.jupyter.widget-view+json": {
       "model_id": "daf93991409f4ce5a38c340ee3a72834",
       "version_major": 2,
       "version_minor": 0
      },
      "text/plain": [
       "Styles()"
      ]
     },
     "metadata": {},
     "output_type": "display_data"
    },
    {
     "data": {
      "application/vnd.jupyter.widget-view+json": {
       "model_id": "45e997b726da460699cb3f77b9879709",
       "version_major": 2,
       "version_minor": 0
      },
      "text/plain": [
       "ResizeTrigger()"
      ]
     },
     "metadata": {},
     "output_type": "display_data"
    }
   ],
   "source": [
    "from component import tile"
   ]
  },
  {
   "cell_type": "code",
   "execution_count": 2,
   "id": "1e3d2cbf",
   "metadata": {},
   "outputs": [],
   "source": [
    "cumsum_tile = tile.CumSumTile()"
   ]
  },
  {
   "cell_type": "code",
   "execution_count": 3,
   "id": "23541198",
   "metadata": {
    "tags": []
   },
   "outputs": [
    {
     "data": {
      "application/vnd.jupyter.widget-view+json": {
       "model_id": "29675f8a6c0e490aa320d6a88765741f",
       "version_major": 2,
       "version_minor": 0
      },
      "text/plain": [
       "CumSumTile(align_center=True, children=[Card(children=[Html(children=['Select time series folder'], tag='h2'),…"
      ]
     },
     "metadata": {},
     "output_type": "display_data"
    }
   ],
   "source": [
    "cumsum_tile"
   ]
  }
 ],
 "metadata": {
  "kernelspec": {
   "display_name": "Python 3",
   "language": "python",
   "name": "python3"
  },
  "language_info": {
   "codemirror_mode": {
    "name": "ipython",
    "version": 3
   },
   "file_extension": ".py",
   "mimetype": "text/x-python",
   "name": "python",
   "nbconvert_exporter": "python",
   "pygments_lexer": "ipython3",
   "version": "3.6.9"
  }
 },
 "nbformat": 4,
 "nbformat_minor": 5
}
