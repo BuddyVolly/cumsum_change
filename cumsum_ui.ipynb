{
 "cells": [
  {
   "cell_type": "code",
   "execution_count": null,
   "id": "61a3c817",
   "metadata": {},
   "outputs": [],
   "source": [
    "from component import tile"
   ]
  },
  {
   "cell_type": "code",
   "execution_count": null,
   "id": "1e3d2cbf",
   "metadata": {},
   "outputs": [],
   "source": [
    "cumsum_tile = tile.CumSumTile()"
   ]
  },
  {
   "cell_type": "code",
   "execution_count": null,
   "id": "23541198",
   "metadata": {
    "tags": []
   },
   "outputs": [],
   "source": [
    "cumsum_tile"
   ]
  },
  {
   "cell_type": "code",
   "execution_count": null,
   "id": "dccafbfe-e428-42c6-9c28-da55908a347d",
   "metadata": {},
   "outputs": [],
   "source": []
  }
 ],
 "metadata": {
  "kernelspec": {
   "display_name": "Python 3",
   "language": "python",
   "name": "python3"
  },
  "language_info": {
   "codemirror_mode": {
    "name": "ipython",
    "version": 3
   },
   "file_extension": ".py",
   "mimetype": "text/x-python",
   "name": "python",
   "nbconvert_exporter": "python",
   "pygments_lexer": "ipython3",
   "version": "3.8.10"
  }
 },
 "nbformat": 4,
 "nbformat_minor": 5
}
