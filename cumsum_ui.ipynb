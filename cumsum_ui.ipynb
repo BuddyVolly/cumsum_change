{
 "cells": [
  {
   "cell_type": "code",
   "execution_count": null,
   "id": "61a3c817",
   "metadata": {},
   "outputs": [],
   "source": [
    "from component import tile"
   ]
  },
  {
   "cell_type": "code",
   "execution_count": null,
   "id": "1e3d2cbf",
   "metadata": {},
   "outputs": [],
   "source": [
    "cumsum_tile = tile.CumSumTile()"
   ]
  },
  {
   "cell_type": "code",
   "execution_count": null,
   "id": "23541198",
   "metadata": {
    "tags": []
   },
   "outputs": [],
   "source": [
    "cumsum_tile"
   ]
  }
 ],
 "metadata": {
  "kernelspec": {
   "display_name": "Python 3",
   "language": "python",
   "name": "python3"
  },
  "language_info": {
   "codemirror_mode": {
    "name": "ipython",
    "version": 3
   },
   "file_extension": ".py",
   "mimetype": "text/x-python",
   "name": "python",
   "nbconvert_exporter": "python",
   "pygments_lexer": "ipython3",
   "version": "3.6.9"
  }
 },
 "nbformat": 4,
 "nbformat_minor": 5
}
